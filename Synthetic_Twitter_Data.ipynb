{
  "nbformat": 4,
  "nbformat_minor": 0,
  "metadata": {
    "colab": {
      "provenance": [],
      "authorship_tag": "ABX9TyNz0DPYUEMumcUh/m2aYDJY",
      "include_colab_link": true
    },
    "kernelspec": {
      "name": "python3",
      "display_name": "Python 3"
    },
    "language_info": {
      "name": "python"
    }
  },
  "cells": [
    {
      "cell_type": "markdown",
      "metadata": {
        "id": "view-in-github",
        "colab_type": "text"
      },
      "source": [
        "<a href=\"https://colab.research.google.com/github/Chrisiscool3/LSDMSpring23/blob/carly_branch/Synthetic_Twitter_Data.ipynb\" target=\"_parent\"><img src=\"https://colab.research.google.com/assets/colab-badge.svg\" alt=\"Open In Colab\"/></a>"
      ]
    },
    {
      "cell_type": "markdown",
      "source": [],
      "metadata": {
        "id": "VpOwp9mm-vuU"
      }
    },
    {
      "cell_type": "code",
      "source": [
        "!pip3 install faker"
      ],
      "metadata": {
        "colab": {
          "base_uri": "https://localhost:8080/"
        },
        "id": "1tXhQbGVMbV3",
        "outputId": "1eb29ff9-7a8b-4ce6-a749-6d68139148a4"
      },
      "execution_count": 1,
      "outputs": [
        {
          "output_type": "stream",
          "name": "stdout",
          "text": [
            "Looking in indexes: https://pypi.org/simple, https://us-python.pkg.dev/colab-wheels/public/simple/\n",
            "Requirement already satisfied: faker in /usr/local/lib/python3.10/dist-packages (18.6.0)\n",
            "Requirement already satisfied: python-dateutil>=2.4 in /usr/local/lib/python3.10/dist-packages (from faker) (2.8.2)\n",
            "Requirement already satisfied: six>=1.5 in /usr/local/lib/python3.10/dist-packages (from python-dateutil>=2.4->faker) (1.16.0)\n"
          ]
        }
      ]
    },
    {
      "cell_type": "code",
      "execution_count": 2,
      "metadata": {
        "id": "OkY_MN-FMRXp"
      },
      "outputs": [],
      "source": [
        "import pandas as pd\n",
        "from faker import Faker\n",
        "import random\n",
        "from datetime import datetime"
      ]
    },
    {
      "cell_type": "code",
      "source": [
        "# Initialize Faker\n",
        "fake = Faker()\n",
        "\n",
        "# Set number of rows to generate\n",
        "num_rows = 100000\n",
        "\n",
        "# Create empty DataFrame\n",
        "df = pd.DataFrame(columns=['date', 'Text', 'userName'])\n",
        "\n",
        "# Generate fake data and add to DataFrame\n",
        "for i in range(num_rows):\n",
        "    date = fake.date_this_year()\n",
        "    text = fake.text(max_nb_chars=280)\n",
        "    userName = fake.user_name()\n",
        "    df.loc[i] = [date, text, userName]\n",
        "\n",
        "# Save DataFrame to CSV file\n",
        "df.to_csv('tweets.csv', index=False)"
      ],
      "metadata": {
        "id": "1pVsfjU8MYOS"
      },
      "execution_count": 5,
      "outputs": []
    },
    {
      "cell_type": "code",
      "source": [
        "from google.colab import drive\n",
        "drive.mount('/content/drive')"
      ],
      "metadata": {
        "id": "MZ9jgAA7Xhzt",
        "colab": {
          "base_uri": "https://localhost:8080/"
        },
        "outputId": "9e2ba7e7-6855-4998-c258-a04e6e026a3b"
      },
      "execution_count": 4,
      "outputs": [
        {
          "output_type": "stream",
          "name": "stdout",
          "text": [
            "Mounted at /content/drive\n"
          ]
        }
      ]
    },
    {
      "cell_type": "code",
      "source": [],
      "metadata": {
        "id": "DZzV8E-JMmhl"
      },
      "execution_count": 4,
      "outputs": []
    }
  ]
}