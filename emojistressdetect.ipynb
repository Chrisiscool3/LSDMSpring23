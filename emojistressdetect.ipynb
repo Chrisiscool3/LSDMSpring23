{
  "nbformat": 4,
  "nbformat_minor": 0,
  "metadata": {
    "colab": {
      "provenance": []
    },
    "kernelspec": {
      "name": "python3",
      "display_name": "Python 3"
    },
    "language_info": {
      "name": "python"
    }
  },
  "cells": [
    {
      "cell_type": "markdown",
      "source": [
        "# **EMOJI STRESS DETECTION DICTIONARY**"
      ],
      "metadata": {
        "id": "vHJF7yf1LFyc"
      }
    },
    {
      "cell_type": "code",
      "source": [
        "# -2 being not stressed\n",
        "# 5 beng very stressed\n",
        "stress_emojis={\n",
        "    \"\\U0001F600\": -2, # grinning face\n",
        "    \"\\U0001F603\": -2, # grinning face with big eyes\n",
        "    \"\\U0001F604\": -2, # grinning face with smiling eyes\n",
        "    \"\\U0001F601\": -2, # beaming face with smiling eyes\n",
        "    \"\\U0001F606\": -2, # grinning squinting face\n",
        "    \"\\U0001F605\": 1, # grinning face with sweat\n",
        "    \"\\U0001F923\": -1, # rolling on the floor crying\n",
        "    \"\\U0001F602\": -1, # face with tears of joy\n",
        "    \"\\U0001F642\": -2, # slightly smiling face\n",
        "    \"\\U0001F643\": 3, # upside-down face\n",
        "    \"\\U0001FAE0\": 1, # meltng face\n",
        "    \"\\U0001F609\": -2, # winking face\n",
        "    \"\\U0001F60A\": -2, # smiling face with smiling eyes\n",
        "    \"\\U0001F607\": -2, # smiling face with halo\n",
        "    \"\\U0001F970\": -2, # smiling face with hearts\n",
        "    \"\\U0001F60D\": -2, # smiling face with heart eyes\n",
        "    \"\\U0001F929\": -2, # star-struck\n",
        "    \"\\U0001F618\": -2, # face blowing a kiss\n",
        "    \"\\U0001F617\": -2, # kissing face\n",
        "    \"\\U0001F61A\": -2, # kissing face with eyes closed\n",
        "    \"\\U0001F619\": -2, # kissing face with smiling eyes\n",
        "    \"\\U0001F972\": 2, # smiling face with tear\n",
        "    \"\\U0001F60B\": -2, # face savoring food\n",
        "    \"\\U0001F61B\": -2, # face with tongue\n",
        "    \"\\U0001F61C\": -1, # winking face with tongue\n",
        "    \"\\U0001F929\": -1, # zany face\n",
        "    \"\\U0001F61D\": -1, # squinting face with tongue\n",
        "    \"\\U0001F911\": -2, # money-mouth face\n",
        "    \"\\U0001F917\": -1, # smiling face with hands\n",
        "    \"\\U0001F92D\": -1, # face with hand over mouth\n",
        "    \"\\U0001FAE2\": 2, # face with opne eyes and hand over mouth\n",
        "    \"\\U0001FAE3\": 3, # face with peeking eye\n",
        "    \"\\U0001F92B\": 1, # shushing face\n",
        "    \"\\U0001F914\": 2, # thinking face\n",
        "    \"\\U0001FAE1\": -1, # saltuing face\n",
        "    \"\\U0001F910\": 1, # zipper-mouth face\n",
        "    \"\\U0001F928\": 2, #face with raising eyebrow\n",
        "    \"\\U0001F610\": 2, # neutral face\n",
        "    \"\\U0001F611\": 1, # expresionless face\n",
        "    \"\\U0001F636\": 1, # face without mouth\n",
        "    \"\\U0001FAE5\": 1, # dotted line face\n",
        "    \"\\U0001F636\": -1, # face in the clouds\n",
        "    \"\\U0001F60F\": -2, # smirk\n",
        "    \"\\U0001F612\": 2, # unamused face\n",
        "    \"\\U0001F644\": 3, # face with rolling eyes\n",
        "    \"\\U0001F62C\": 2, # grimacing face\n",
        "    \"\\U0001F62E\": 2, # face exhaling\n",
        "    \"\\U0001F925\": 1, # lying face\n",
        "    \"\\U0001F60C\": -2, # relieved face\n",
        "    \"\\U0001F614\": 5, # pensive face\n",
        "    \"\\U0001F62A\": 4, # sleepy face\n",
        "    \"\\U0001F924\": -2, # drooling face\n",
        "    \"\\U0001F634\": 1, # sleeping face\n",
        "    \"\\U0001F637\": -2, # face with medical mask \n",
        "    \"\\U0001F912\": -2, # face with thermometer\n",
        "    \"\\U0001F915\": -1, # face with bandage\n",
        "    \"\\U0001F922\": -1, # nauseated face\n",
        "    \"\\U0001F92E\": -1, # face vomiting\n",
        "    \"\\U0001F927\": -2, # sneezing face\n",
        "    \"\\U0001F975\": -2, # hot face\n",
        "    \"\\U0001F976\": -2, # cold face\n",
        "    \"\\U0001F974\": 1, # woozy face\n",
        "    \"\\U0001F635\": -1, # face with crossed-out-eyes\n",
        "    \"\\U0001F92F\": 2, # exploding head\n",
        "    \"\\U0001F60E\": -2, # smiling face with sunglasses\n",
        "    \"\\U0001F913\": -2, # nerd face\n",
        "    \"\\U0001F615\": 1, # confused face\n",
        "    \"\\U0001FAE4\": 2, # face with diagonal mouth\n",
        "    \"\\U0001F61F\": 3, # worried face\n",
        "    \"\\U0001F641\": 3, # slightly frowning face\n",
        "    \"\\U0001F62E\": 1, # face with open mouth\n",
        "    \"\\U0001F62F\": 1, # hushed face \n",
        "    \"\\U0001F633\": 2, # flushed face\n",
        "    \"\\U0001F97A\": -1, # pleading face\n",
        "    \"\\U0001F979\": 2, # face holding back tears\n",
        "    \"\\U0001F626\": 2, # frowning face with open mouth\n",
        "    \"\\U0001F627\": 2, # anguished face\n",
        "    \"\\U0001F62B\": 2, # fearful face\n",
        "    \"\\U0001F630\": 5, # anxious face with sweat\n",
        "    \"\\U0001F625\": 5, # sad but relieved face\n",
        "    \"\\U0001F622\": 4, # crying face\n",
        "    \"\\U0001F62D\": 4, # loudly crying face\n",
        "    \"\\U0001F631\": 3, # face screaming in fear\n",
        "    \"\\U0001F616\": 3, # confused face\n",
        "    \"\\U0001F623\": 5, # perservering face\n",
        "    \"\\U0001F61E\": 5, # dissapointed face\n",
        "    \"\\U0001F613\": 5, # downcast face with sweat\n",
        "    \"\\U0001F629\": 3, # weary face\n",
        "    \"\\U0001F62B\": 3, # tired face\n",
        "    \"\\U0001F971\": 2, # yawnging face\n",
        "    \"\\U0001F624\": 2, # face with steam from nose\n",
        "    \"\\U0001F621\": 1, # enraged face\n",
        "    \"\\U0001F620\": 1, # angry face\n",
        "    \"\\U0001F92C\": 3, # face with symbols on mouth\n",
        "    \"\\U0001F63F\": 4, # crying cat\n",
        "    \"\\U0001F63E\": 4, # pouting cat\n",
        "    \"\\U0001F494\": 4, # broken heart\n",
        "    \"\\U0001F44D\": -2, # thumbs up\n",
        "    \"\\U0001F44E\": 3, # thumbs down\n",
        "\n",
        "}\n"
      ],
      "metadata": {
        "id": "w0m1FbalLLD3"
      },
      "execution_count": 46,
      "outputs": []
    },
    {
      "cell_type": "code",
      "source": [
        "# test to make sure unicode corresponded to correct emoji\n",
        "\n",
        "#print(chr(0x1F2764))"
      ],
      "metadata": {
        "id": "O9h9eyOWXJGk"
      },
      "execution_count": 47,
      "outputs": []
    },
    {
      "cell_type": "code",
      "source": [
        "!pip3 install emoji\n",
        "\n",
        "import pandas as pd\n",
        "import regex as re\n",
        "import emoji\n",
        "\n",
        "# Load the CSV file containing tweets\n",
        "num_lines = 5\n",
        "\n",
        "tweets = pd.read_csv('compressed1.csv',nrows=num_lines, header=0)\n",
        "\n",
        "\n",
        "for tweet in tweets['Text']:\n",
        "    score = 0\n",
        "    for char in tweet:\n",
        "        if char in stress_emojis:\n",
        "            score = stress_emojis[char]\n",
        "    print(\"Tweet: {} / Stress score: {}\\n\".format(tweet, score))"
      ],
      "metadata": {
        "colab": {
          "base_uri": "https://localhost:8080/"
        },
        "id": "rvj92LlzYypi",
        "outputId": "81432581-7d30-49f0-932b-1434de0c9e66"
      },
      "execution_count": 45,
      "outputs": [
        {
          "output_type": "stream",
          "name": "stdout",
          "text": [
            "Looking in indexes: https://pypi.org/simple, https://us-python.pkg.dev/colab-wheels/public/simple/\n",
            "Requirement already satisfied: langdetect in /usr/local/lib/python3.10/dist-packages (1.0.9)\n",
            "Requirement already satisfied: six in /usr/local/lib/python3.10/dist-packages (from langdetect) (1.16.0)\n",
            "Looking in indexes: https://pypi.org/simple, https://us-python.pkg.dev/colab-wheels/public/simple/\n",
            "Requirement already satisfied: emoji in /usr/local/lib/python3.10/dist-packages (2.2.0)\n",
            "Looking in indexes: https://pypi.org/simple, https://us-python.pkg.dev/colab-wheels/public/simple/\n",
            "Requirement already satisfied: emoji in /usr/local/lib/python3.10/dist-packages (2.2.0)\n",
            "Tweet: @ibighitfess Di hp Spotify di laptop yt 😍👍 / Stress score: -2\n",
            "\n",
            "Tweet: Ga ada laptop ga bisa streaming banyak 😭 / Stress score: 4\n",
            "\n",
            "Tweet: About to just go ahead and get this laptop tomorrow 🤞🏾 / Stress score: 0\n",
            "\n",
            "Tweet: @thecroftonshow laptop stickers / Stress score: 0\n",
            "\n",
            "Tweet: @McdanielTsai @BearkatsFB @raknation @FACEONETRAINING Employment Opportunity!!!\n",
            "We are looking to hire a couple of work from home Data Entry Clerk.. $22/Hour payment\n",
            "Urgently Needed!!!\n",
            "No Experience Needed!\n",
            "We Train!\n",
            "Bonuses!\n",
            "Full Benefits!\n",
            "Working hours is flexible\n",
            "Get a free laptop\n",
            "No start up fee\n",
            "No scams\n",
            "$22 per hour\n",
            "Message me / Stress score: 0\n",
            "\n"
          ]
        }
      ]
    }
  ]
}